{
  "cells": [
    {
      "cell_type": "markdown",
      "metadata": {
        "id": "view-in-github",
        "colab_type": "text"
      },
      "source": [
        "<a href=\"https://colab.research.google.com/github/AngelRitsuka/AULA-c2-v2-21/blob/main/Tipos_de_Vari%C3%A1veis_e_aula_seguinte.ipynb\" target=\"_parent\"><img src=\"https://colab.research.google.com/assets/colab-badge.svg\" alt=\"Open In Colab\"/></a>"
      ]
    },
    {
      "cell_type": "markdown",
      "metadata": {
        "id": "0CgOeK9iPQT8"
      },
      "source": [
        "# Tipos de Variáveis em Python"
      ]
    },
    {
      "cell_type": "markdown",
      "metadata": {
        "id": "cucvIaVEPQUt"
      },
      "source": [
        "Uma variável é um objeto, afinal tudo é um objeto em Python\n",
        "\n",
        "int -> inteiro<br>\n",
        "string -> texto<br>\n",
        "float -> números com casas decimais (ponto flutuante)<br>\n",
        "bool ou boolean -> True ou False<br>\n",
        "\n",
        "Obs: Variáveis em Python não são declaradas explicitamente, mas isso não significa que você deve ficar mudando o tempo todo\n",
        "\n",
        "Obs2: Cuidado com os nomes restritos (arquivo para Download)"
      ]
    },
    {
      "cell_type": "code",
      "execution_count": 1,
      "metadata": {
        "colab": {
          "base_uri": "https://localhost:8080/"
        },
        "id": "08qzs2E_PQU2",
        "outputId": "f1cc4183-45a0-49e7-d5b5-b2e5d4b6e9b9"
      },
      "outputs": [
        {
          "output_type": "execute_result",
          "data": {
            "text/plain": [
              "int"
            ]
          },
          "metadata": {},
          "execution_count": 1
        }
      ],
      "source": [
        "faturamento = 1000\n",
        "type(faturamento)"
      ]
    },
    {
      "cell_type": "code",
      "execution_count": null,
      "metadata": {
        "id": "4c0TuSy1PQVK",
        "outputId": "cd0734ae-c0d4-4e6b-ea2a-9cfd771a9a73"
      },
      "outputs": [
        {
          "data": {
            "text/plain": [
              "float"
            ]
          },
          "execution_count": 2,
          "metadata": {},
          "output_type": "execute_result"
        }
      ],
      "source": [
        "faturamento = 1000.00\n",
        "type(faturamento)"
      ]
    },
    {
      "cell_type": "code",
      "execution_count": null,
      "metadata": {
        "id": "VH3z0yR5PQVO",
        "outputId": "1cd39afb-d9ae-44bb-d6c6-4ac6374ac058"
      },
      "outputs": [
        {
          "data": {
            "text/plain": [
              "str"
            ]
          },
          "execution_count": 3,
          "metadata": {},
          "output_type": "execute_result"
        }
      ],
      "source": [
        "faturamento = '1.000'\n",
        "type(faturamento)"
      ]
    },
    {
      "cell_type": "code",
      "execution_count": null,
      "metadata": {
        "id": "xWN2WP2VPQVv",
        "outputId": "b13919a2-b0a5-401e-813b-cb612a225c4c"
      },
      "outputs": [
        {
          "data": {
            "text/plain": [
              "bool"
            ]
          },
          "execution_count": 4,
          "metadata": {},
          "output_type": "execute_result"
        }
      ],
      "source": [
        "ganha_bonus = True\n",
        "type(ganha_bonus)"
      ]
    },
    {
      "cell_type": "code",
      "execution_count": 6,
      "metadata": {
        "colab": {
          "base_uri": "https://localhost:8080/"
        },
        "id": "S6rGbwkaPQV5",
        "outputId": "530b8857-d009-496b-e62c-5c8477f636b6"
      },
      "outputs": [
        {
          "output_type": "stream",
          "name": "stdout",
          "text": [
            "O faturamento da loja foi de: 1000 reais\n"
          ]
        }
      ],
      "source": [
        "Faturamento = 1000\n",
        "print(\"O faturamento da loja foi de: \" + str(Faturamento) + \" reais\")"
      ]
    },
    {
      "cell_type": "code",
      "source": [
        ""
      ],
      "metadata": {
        "id": "1mpP3ol4Tdmv"
      },
      "execution_count": null,
      "outputs": []
    }
  ],
  "metadata": {
    "kernelspec": {
      "display_name": "Python 3",
      "language": "python",
      "name": "python3"
    },
    "language_info": {
      "codemirror_mode": {
        "name": "ipython",
        "version": 3
      },
      "file_extension": ".py",
      "mimetype": "text/x-python",
      "name": "python",
      "nbconvert_exporter": "python",
      "pygments_lexer": "ipython3",
      "version": "3.8.3"
    },
    "colab": {
      "name": "Tipos de Variáveis e aula seguinte.ipynb",
      "provenance": [],
      "include_colab_link": true
    }
  },
  "nbformat": 4,
  "nbformat_minor": 0
}